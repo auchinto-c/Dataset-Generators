{
 "cells": [
  {
   "cell_type": "markdown",
   "id": "e0fa7f62",
   "metadata": {},
   "source": [
    "# Libraries"
   ]
  },
  {
   "cell_type": "code",
   "execution_count": 63,
   "id": "bf70ae80",
   "metadata": {},
   "outputs": [],
   "source": [
    "from fpdf import FPDF\n",
    "import random\n",
    "import string\n",
    "from datetime import date, timedelta"
   ]
  },
  {
   "cell_type": "markdown",
   "id": "59ecbcb7",
   "metadata": {},
   "source": [
    "# Template"
   ]
  },
  {
   "cell_type": "code",
   "execution_count": 199,
   "id": "794b8027",
   "metadata": {},
   "outputs": [],
   "source": [
    "margin = 5.0\n",
    "partition = 30.0\n",
    "pdf_w, pdf_h = (297, 210)\n",
    "origin = (0,0)\n",
    "\n",
    "row_h = partition / 4\n",
    "current_info_w = pdf_w/2 - margin\n",
    "curr_num_cols = 2*2\n",
    "curr_col_w = current_info_w/curr_num_cols\n",
    "posting_table_w = pdf_w - 2*margin\n",
    "num_cols = 7\n",
    "col_w = posting_table_w/num_cols\n",
    "\n",
    "class PDF(FPDF):\n",
    "    num_rows = 0\n",
    "    \n",
    "    def init_num_rows(self):\n",
    "        self.num_rows = 0\n",
    "    \n",
    "    def table_borders(self):\n",
    "        self.set_line_width(0.5)    \n",
    "        \n",
    "        # Current Info Table\n",
    "        self.rect(origin[0] + margin, origin[1] + margin, pdf_w/2 - margin, partition)  \n",
    "        \n",
    "        for i in range(1, 4):\n",
    "            self.line(origin[0] + margin, origin[1] + margin + i*row_h, pdf_w/2, origin[1] + margin + i*row_h)\n",
    "        \n",
    "        for i in range(1, 4):\n",
    "            self.line(origin[0] + margin + i*curr_col_w, origin[1] + margin + row_h, origin[0] + margin + i*curr_col_w, origin[1] + margin + partition)\n",
    "        \n",
    "        # Posting History Table\n",
    "        self.rect(origin[0] + margin, origin[1] + margin + partition, pdf_w - 2 * margin, pdf_h - 2 * margin - partition)\n",
    "        \n",
    "        self.line(origin[0] + margin, origin[1] + margin + partition + row_h, pdf_w - margin, origin[1] + margin + partition + row_h)\n",
    "        self.line(origin[0] + margin, origin[1] + margin + partition + 2*row_h, pdf_w - margin, origin[1] + margin + partition + 2*row_h)\n",
    "        \n",
    "        for i in range(1, num_cols):\n",
    "            self.line(origin[0] + margin + i*col_w, origin[1] + margin + partition + row_h, origin[0] + margin + i*col_w, pdf_h - margin)\n",
    "        \n",
    "        \n",
    "    def header_text(self, emp_id):\n",
    "        self.set_font(\"Arial\", size = 9, style = 'B')\n",
    "        \n",
    "        # EMP_ID\n",
    "        self.set_xy(origin[0] + margin, origin[1] + margin)\n",
    "        self.cell(current_info_w, row_h, txt='Employee ID: ' + str(emp_id), align = 'C')\n",
    "        \n",
    "        # Current Info\n",
    "        self.set_xy(origin[0] + margin, origin[1] + margin + row_h)\n",
    "        self.cell(curr_col_w, row_h, txt='Employee Name:', align = 'C')\n",
    "        \n",
    "        self.set_xy(origin[0] + margin + 2*curr_col_w, origin[1] + margin + row_h)\n",
    "        self.cell(curr_col_w, row_h, txt='Date Of Birth:', align = 'C')\n",
    "        \n",
    "        self.set_xy(origin[0] + margin, origin[1] + margin + 2*row_h)\n",
    "        self.cell(curr_col_w, row_h, txt='Organization:', align = 'C')\n",
    "        \n",
    "        self.set_xy(origin[0] + margin + 2*curr_col_w, origin[1] + margin + 2*row_h)\n",
    "        self.cell(curr_col_w, row_h, txt='Location:', align = 'C')\n",
    "        \n",
    "        self.set_xy(origin[0] + margin, origin[1] + margin + 3*row_h)\n",
    "        self.cell(curr_col_w, row_h, txt='Department', align = 'C')\n",
    "        \n",
    "        self.set_xy(origin[0] + margin + 2*curr_col_w, origin[1] + margin + 3*row_h)\n",
    "        self.cell(curr_col_w, row_h, txt='Designation:', align = 'C')\n",
    "        \n",
    "        # Posting History Title\n",
    "        self.set_xy(origin[0] + margin, origin[1] + margin + partition)\n",
    "        self.cell(posting_table_w, row_h, txt='Posting History', align = 'C')\n",
    "        \n",
    "        # Posting History\n",
    "        self.set_xy(origin[0] + margin, origin[1] + margin + partition + row_h)\n",
    "        self.cell(col_w, row_h, txt='Designation', align = 'C')\n",
    "        \n",
    "        self.set_xy(origin[0] + margin + col_w, origin[1] + margin + partition + row_h)\n",
    "        self.cell(col_w, row_h, txt='Department', align = 'C')\n",
    "        \n",
    "        self.set_xy(origin[0] + margin + 2*col_w, origin[1] + margin + partition + row_h)\n",
    "        self.cell(col_w, row_h, txt='Organization', align = 'C')\n",
    "        \n",
    "        self.set_xy(origin[0] + margin + 3*col_w, origin[1] + margin + partition + row_h)\n",
    "        self.cell(col_w, row_h, txt='Location', align = 'C')\n",
    "        \n",
    "        self.set_xy(origin[0] + margin + 4*col_w, origin[1] + margin + partition + row_h)\n",
    "        self.cell(col_w, row_h, txt='From Date', align = 'C')\n",
    "        \n",
    "        self.set_xy(origin[0] + margin + 5*col_w, origin[1] + margin + partition + row_h)\n",
    "        self.cell(col_w, row_h, txt='To Date', align = 'C')\n",
    "        \n",
    "        self.set_xy(origin[0] + margin + 6*col_w, origin[1] + margin + partition + row_h)\n",
    "        self.cell(col_w, row_h, txt='Pay Grade', align = 'C')\n",
    "        \n",
    "    \n",
    "    def content_text(self, name, dob, org, loc, dept, title):\n",
    "        self.set_font(\"Arial\", size = 9)\n",
    "        \n",
    "        # Current Info\n",
    "        self.set_xy(origin[0] + margin + curr_col_w, origin[1] + margin + row_h)\n",
    "        self.cell(curr_col_w, row_h, txt=name, align = 'C')\n",
    "        \n",
    "        self.set_xy(origin[0] + margin + 3*curr_col_w, origin[1] + margin + row_h)\n",
    "        self.cell(curr_col_w, row_h, txt=dob, align = 'C')\n",
    "        \n",
    "        self.set_xy(origin[0] + margin + curr_col_w, origin[1] + margin + 2*row_h)\n",
    "        self.cell(curr_col_w, row_h, txt=org, align = 'C')\n",
    "        \n",
    "        self.set_xy(origin[0] + margin + 3*curr_col_w, origin[1] + margin + 2*row_h)\n",
    "        self.cell(curr_col_w, row_h, txt=loc, align = 'C')\n",
    "        \n",
    "        self.set_xy(origin[0] + margin + curr_col_w, origin[1] + margin + 3*row_h)\n",
    "        self.cell(curr_col_w, row_h, txt=dept, align = 'C')\n",
    "        \n",
    "        self.set_xy(origin[0] + margin + 3*curr_col_w, origin[1] + margin + 3*row_h)\n",
    "        self.cell(curr_col_w, row_h, txt=title, align = 'C')\n",
    "\n",
    "    def add_rows(self, record):\n",
    "        base_X, base_Y = origin[0] + margin, origin[1] + margin + partition + 2*row_h\n",
    "        \n",
    "        for i, value in enumerate(record):\n",
    "            self.set_xy(base_X + i*col_w, base_Y + self.num_rows*row_h)\n",
    "            self.cell(col_w, row_h, txt=value, align = 'C')\n",
    "        \n",
    "        self.num_rows += 1"
   ]
  },
  {
   "cell_type": "code",
   "execution_count": 200,
   "id": "dde6cb5d",
   "metadata": {},
   "outputs": [
    {
     "data": {
      "text/plain": [
       "''"
      ]
     },
     "execution_count": 200,
     "metadata": {},
     "output_type": "execute_result"
    }
   ],
   "source": [
    "pdf = PDF(orientation = 'L')\n",
    " \n",
    "pdf.add_page()\n",
    "\n",
    "pdf.table_borders()\n",
    "pdf.header_text(1)\n",
    "pdf.content_text('Auchinto Chatterjee', '06/11/1998', 'AC Enterprise', 'Bengaluru, KA', 'Analytics', 'Analyst')\n",
    "pdf.add_rows(['Summer Intern', 'Engineering', 'LTTS', 'Vadodara, GJ', '01/06/2018', '01/08/2018', 'N/A'])\n",
    "pdf.add_rows(['Summer Intern', 'Engineering', 'Fivetran', 'Bengaluru, KA', '01/06/2019', '01/08/2019', 'N/A'])\n",
    "pdf.add_rows(['SE Intern', 'Engineering', 'Fivetran', 'Bengaluru, KA', '01/01/2020', '31/05/2020', '300000'])\n",
    "pdf.add_rows(['SE I', 'Engineering', 'Fivetran', 'Bengaluru, KA', '01/06/2020', '01/04/2022', '1200000'])\n",
    "pdf.output(\"template_emp_history.pdf\")"
   ]
  },
  {
   "cell_type": "markdown",
   "id": "25c4274d",
   "metadata": {},
   "source": [
    "# Generating Bulk Data"
   ]
  },
  {
   "cell_type": "markdown",
   "id": "4909c1b9",
   "metadata": {},
   "source": [
    "- Page - Employee : One to one : for every employee add a new page\n",
    "- Personal Details\n",
    "    - Name (Title + First Name + Last Name)\n",
    "        - Title: M: Mr, F: Ms/Mrs - Would help in Gender classification\n",
    "    - DOB : Any Date in the range (1970 - 2000)\n",
    "    - Organization: Remains same for all employee, since this whole dataset is belonging to the same org\n",
    "    - Department: \n",
    "        - Random pick from a Set of prelisted dept(s)\n",
    "    - Location:\n",
    "        - Random pick from a Set of Strings made out of random letters, in the format (ABC, XY) - City, State\n",
    "        - Can work on City - State Mapping so that we can do geographical analysis as well\n",
    "    - Designation:\n",
    "        - Random pick from a Set of prelisted title(s) mapped under specific dept(s)\n",
    "- Posting History\n",
    "    - Designation, Dept, Location follow the same rules as above\n",
    "    - Organization follows the rule as Dept/Location/Designation\n",
    "    - From_Date to To_Date:\n",
    "        - Let Start at (DOB + 18 years)\n",
    "        - Let End at (Present or Some Date in last 2 years)\n",
    "        - Random number and Random size partitions between (Start, End) -> Each Interval will generate (From_Date, To_Date)\n",
    "    - PayGrade\n",
    "        - Follow Dept and Designation Mapping"
   ]
  },
  {
   "cell_type": "code",
   "execution_count": 36,
   "id": "3dbc0798",
   "metadata": {},
   "outputs": [],
   "source": [
    "num_employees = 300"
   ]
  },
  {
   "cell_type": "markdown",
   "id": "db1a2355",
   "metadata": {},
   "source": [
    "## Personal Details"
   ]
  },
  {
   "cell_type": "code",
   "execution_count": 37,
   "id": "2c88ad67",
   "metadata": {},
   "outputs": [],
   "source": [
    "personal_headers = ['Employee Name', 'Date Of Birth', 'Organization', 'Location', 'Department', 'Designation']"
   ]
  },
  {
   "cell_type": "markdown",
   "id": "890caf7e",
   "metadata": {},
   "source": [
    "### Employee Name"
   ]
  },
  {
   "cell_type": "code",
   "execution_count": 192,
   "id": "0aa68634",
   "metadata": {},
   "outputs": [],
   "source": [
    "gender_title = ['Mr.', 'Ms.', 'Mrs.']\n",
    "\n",
    "def random_string():\n",
    "    temp = ''.join(random.choices(string.ascii_lowercase, k=random.randint(4, 8)))\n",
    "    temp = temp[0].upper() + temp[1:]\n",
    "    return temp\n",
    "\n",
    "def first_name():\n",
    "    return random_string()\n",
    "\n",
    "def last_name():\n",
    "    return random_string()\n",
    "\n",
    "def get_name():\n",
    "    return ' '.join([random.choice(gender_title), first_name(), last_name()])"
   ]
  },
  {
   "cell_type": "code",
   "execution_count": 62,
   "id": "5da3960c",
   "metadata": {},
   "outputs": [
    {
     "data": {
      "text/plain": [
       "'Mr. Rieka Phtezbdcqcy'"
      ]
     },
     "execution_count": 62,
     "metadata": {},
     "output_type": "execute_result"
    }
   ],
   "source": [
    "get_name()"
   ]
  },
  {
   "cell_type": "markdown",
   "id": "d556fd0f",
   "metadata": {},
   "source": [
    "### Date Of Birth"
   ]
  },
  {
   "cell_type": "code",
   "execution_count": 135,
   "id": "4cc5c3e4",
   "metadata": {},
   "outputs": [],
   "source": [
    "start_date, end_date = date(1970, 1, 1), date(2000, 1, 1)\n",
    "\n",
    "def get_dob():\n",
    "    return start_date + timedelta(days=random.randint(1, (end_date - start_date).days))"
   ]
  },
  {
   "cell_type": "code",
   "execution_count": 136,
   "id": "6481e25e",
   "metadata": {},
   "outputs": [
    {
     "data": {
      "text/plain": [
       "datetime.date(1983, 8, 25)"
      ]
     },
     "execution_count": 136,
     "metadata": {},
     "output_type": "execute_result"
    }
   ],
   "source": [
    "get_dob()"
   ]
  },
  {
   "cell_type": "markdown",
   "id": "faf4a293",
   "metadata": {},
   "source": [
    "### Organization"
   ]
  },
  {
   "cell_type": "code",
   "execution_count": 105,
   "id": "4563eacd",
   "metadata": {},
   "outputs": [],
   "source": [
    "def get_org_for_set():\n",
    "    return random_string()"
   ]
  },
  {
   "cell_type": "code",
   "execution_count": 106,
   "id": "01cdcc6d",
   "metadata": {},
   "outputs": [
    {
     "data": {
      "text/plain": [
       "'Vpkrony'"
      ]
     },
     "execution_count": 106,
     "metadata": {},
     "output_type": "execute_result"
    }
   ],
   "source": [
    "get_org_for_set()"
   ]
  },
  {
   "cell_type": "code",
   "execution_count": 107,
   "id": "0230f1c5",
   "metadata": {},
   "outputs": [],
   "source": [
    "org_set = [get_org_for_set() for _ in range(100)]\n",
    "\n",
    "def get_org():\n",
    "    return random.choice(org_set)"
   ]
  },
  {
   "cell_type": "code",
   "execution_count": 108,
   "id": "2d1e282d",
   "metadata": {},
   "outputs": [
    {
     "data": {
      "text/plain": [
       "'Wdojesw'"
      ]
     },
     "execution_count": 108,
     "metadata": {},
     "output_type": "execute_result"
    }
   ],
   "source": [
    "get_org()"
   ]
  },
  {
   "cell_type": "markdown",
   "id": "3678a04e",
   "metadata": {},
   "source": [
    "### Department"
   ]
  },
  {
   "cell_type": "code",
   "execution_count": 85,
   "id": "ecdb362c",
   "metadata": {},
   "outputs": [],
   "source": [
    "depts = ['Engineering', 'Analytics', 'Sales', 'Security', 'Marketing', 'IT & Operations', 'Human Resources', 'Accounts', 'Product', 'Recruitment', 'Customer Support']"
   ]
  },
  {
   "cell_type": "code",
   "execution_count": 86,
   "id": "65b25fec",
   "metadata": {},
   "outputs": [],
   "source": [
    "def get_department():\n",
    "    return random.choice(depts)"
   ]
  },
  {
   "cell_type": "code",
   "execution_count": 89,
   "id": "c7fa5374",
   "metadata": {},
   "outputs": [
    {
     "data": {
      "text/plain": [
       "'Engineering'"
      ]
     },
     "execution_count": 89,
     "metadata": {},
     "output_type": "execute_result"
    }
   ],
   "source": [
    "get_department()"
   ]
  },
  {
   "cell_type": "markdown",
   "id": "38248e92",
   "metadata": {},
   "source": [
    "### Location"
   ]
  },
  {
   "cell_type": "code",
   "execution_count": 100,
   "id": "265022e7",
   "metadata": {},
   "outputs": [],
   "source": [
    "def get_location_for_set():\n",
    "    return random_string() + ', ' + ''.join(random.choices(string.ascii_uppercase, k=2))"
   ]
  },
  {
   "cell_type": "code",
   "execution_count": 101,
   "id": "8a35eecb",
   "metadata": {},
   "outputs": [
    {
     "data": {
      "text/plain": [
       "'Valsglzt, YU'"
      ]
     },
     "execution_count": 101,
     "metadata": {},
     "output_type": "execute_result"
    }
   ],
   "source": [
    "get_location_for_set()"
   ]
  },
  {
   "cell_type": "code",
   "execution_count": 102,
   "id": "a6615b8c",
   "metadata": {},
   "outputs": [],
   "source": [
    "location_set = [get_location_for_set() for _ in range(100)]\n",
    "\n",
    "def get_loc():\n",
    "    return random.choice(location_set)"
   ]
  },
  {
   "cell_type": "code",
   "execution_count": 103,
   "id": "1a92f421",
   "metadata": {},
   "outputs": [
    {
     "data": {
      "text/plain": [
       "'Qfvgfppf, JR'"
      ]
     },
     "execution_count": 103,
     "metadata": {},
     "output_type": "execute_result"
    }
   ],
   "source": [
    "get_loc()"
   ]
  },
  {
   "cell_type": "markdown",
   "id": "5ebab2d7",
   "metadata": {},
   "source": [
    "### Designation"
   ]
  },
  {
   "cell_type": "code",
   "execution_count": 124,
   "id": "ebbe050f",
   "metadata": {},
   "outputs": [],
   "source": [
    "designation = {\n",
    "    'Engineering': ['SE Intern', 'Software Engineer I', 'Software Engineer II', 'Senior Software Engineer', 'Staff Software Engineer', 'Lead Software Engineer', 'Engineering Manager'],\n",
    "    'Analytics': ['Junior Analyst', 'Senior Analyst', 'BI Analyst', 'Data Scientist'],\n",
    "    'Sales': ['Junior Sales Engineer', 'Senior Sales Engineer', 'Regional Sales Manager'],\n",
    "    'Security': ['Security Engineer I', 'Security Engineer II', 'Senior Security Engineer'],\n",
    "    'Marketing': ['Junior', 'Senior', 'Manager'],\n",
    "    'IT & Operations': ['IT Consultant', 'Operations Manager'],\n",
    "    'Human Resources': ['HR'],\n",
    "    'Accounts': ['Account Engineer', 'Account Manager'],\n",
    "    'Product': ['Business Associate', 'Associate Product Manager', 'Product Manager'],\n",
    "    'Recruitment':['Recruitment'],\n",
    "    'Customer Support':['Junior Support Engineer', 'Senior Support Engineer', 'Customer Support Manager']\n",
    "}\n",
    "\n",
    "def get_designation(dept):\n",
    "    return random.choice(designation[dept])"
   ]
  },
  {
   "cell_type": "code",
   "execution_count": 131,
   "id": "9a1cf5e7",
   "metadata": {},
   "outputs": [
    {
     "data": {
      "text/plain": [
       "'Engineering Manager'"
      ]
     },
     "execution_count": 131,
     "metadata": {},
     "output_type": "execute_result"
    }
   ],
   "source": [
    "get_designation(get_department())"
   ]
  },
  {
   "cell_type": "markdown",
   "id": "224c70e8",
   "metadata": {},
   "source": [
    "## Posting History"
   ]
  },
  {
   "cell_type": "markdown",
   "id": "4fa153bb",
   "metadata": {},
   "source": [
    "### From Date and To Date"
   ]
  },
  {
   "cell_type": "code",
   "execution_count": 155,
   "id": "0db1e5cc",
   "metadata": {},
   "outputs": [],
   "source": [
    "def get_transition_dates(career_start, career_end):\n",
    "    day_checkpoints = [career_start]\n",
    "    \n",
    "    curr_date = career_start\n",
    "    interval_cnt = random.randrange(10)\n",
    "    \n",
    "    while curr_date != career_end and interval_cnt > 0:\n",
    "        curr_date += timedelta(days=random.randint(1, (career_end - curr_date).days))\n",
    "        day_checkpoints.append(curr_date)\n",
    "        interval_cnt -= 1\n",
    "        \n",
    "    day_checkpoints.append(career_end)\n",
    "    return day_checkpoints\n",
    "\n",
    "def get_posting_intervals(career_start, career_end):\n",
    "    checkpoints = get_transition_dates(career_start, career_end)\n",
    "    \n",
    "    intervals = [(checkpoints[0], checkpoints[1])]\n",
    "    \n",
    "    for i in range(1, len(checkpoints) - 1):\n",
    "        intervals.append((checkpoints[i] + timedelta(days=1), checkpoints[i+1]))\n",
    "    \n",
    "    return intervals"
   ]
  },
  {
   "cell_type": "code",
   "execution_count": 158,
   "id": "2e9c45de",
   "metadata": {},
   "outputs": [
    {
     "name": "stdout",
     "output_type": "stream",
     "text": [
      "1983-06-30\n",
      "2001-06-25 2022-01-06\n"
     ]
    },
    {
     "data": {
      "text/plain": [
       "[(datetime.date(2001, 6, 25), datetime.date(2002, 7, 29)),\n",
       " (datetime.date(2002, 7, 30), datetime.date(2015, 6, 5)),\n",
       " (datetime.date(2015, 6, 6), datetime.date(2020, 10, 3)),\n",
       " (datetime.date(2020, 10, 4), datetime.date(2020, 11, 10)),\n",
       " (datetime.date(2020, 11, 11), datetime.date(2020, 11, 26)),\n",
       " (datetime.date(2020, 11, 27), datetime.date(2021, 10, 8)),\n",
       " (datetime.date(2021, 10, 9), datetime.date(2021, 10, 22)),\n",
       " (datetime.date(2021, 10, 23), datetime.date(2022, 1, 6))]"
      ]
     },
     "execution_count": 158,
     "metadata": {},
     "output_type": "execute_result"
    }
   ],
   "source": [
    "dob = get_dob()\n",
    "print(dob)\n",
    "start = dob + timedelta(days=18*365)\n",
    "end = date(2022,1,6)\n",
    "print(start, end)\n",
    "\n",
    "get_posting_intervals(start, end)"
   ]
  },
  {
   "cell_type": "markdown",
   "id": "dc5bcbde",
   "metadata": {},
   "source": [
    "### Paygrade"
   ]
  },
  {
   "cell_type": "code",
   "execution_count": 174,
   "id": "7a610475",
   "metadata": {},
   "outputs": [],
   "source": [
    "def get_pay():\n",
    "    return random.randrange(300000, 3000000, 100000)\n",
    "\n",
    "# Can be later provided with mapping respective to the departments and titles"
   ]
  },
  {
   "cell_type": "code",
   "execution_count": 175,
   "id": "cb2aabb2",
   "metadata": {},
   "outputs": [
    {
     "data": {
      "text/plain": [
       "1800000"
      ]
     },
     "execution_count": 175,
     "metadata": {},
     "output_type": "execute_result"
    }
   ],
   "source": [
    "get_pay()"
   ]
  },
  {
   "cell_type": "markdown",
   "id": "de291353",
   "metadata": {},
   "source": [
    "# Generating Final PDF"
   ]
  },
  {
   "cell_type": "code",
   "execution_count": 201,
   "id": "baa75160",
   "metadata": {},
   "outputs": [
    {
     "data": {
      "text/plain": [
       "''"
      ]
     },
     "execution_count": 201,
     "metadata": {},
     "output_type": "execute_result"
    }
   ],
   "source": [
    "num_employees = 300\n",
    "\n",
    "pdf = PDF(orientation = 'L')\n",
    "current_org = get_org()\n",
    "\n",
    "for i in range(num_employees):\n",
    "    pdf.init_num_rows()\n",
    "    pdf.add_page()\n",
    "    pdf.table_borders()\n",
    "    pdf.header_text(i+1)\n",
    "    \n",
    "    name = get_name()\n",
    "    dob = get_dob()\n",
    "    org = current_org\n",
    "    loc = get_loc()\n",
    "    dept = get_department()\n",
    "    title = get_designation(dept)\n",
    "    \n",
    "    pdf.content_text(name, str(dob), org, loc, dept, title)\n",
    "    \n",
    "    start, end = dob + timedelta(days=18*365), date(2022,1,6)\n",
    "    \n",
    "    intervals = get_posting_intervals(start, end)\n",
    "    \n",
    "    for i in range(len(intervals)-1):\n",
    "        hist_dept = dept\n",
    "        hist_org = get_org()\n",
    "        hist_loc = get_loc()\n",
    "        hist_title = get_designation(dept)\n",
    "        hist_pay = get_pay()\n",
    "        row = [hist_title, hist_dept, hist_org, hist_loc, str(intervals[i][0]), str(intervals[i][1]), str(hist_pay)]\n",
    "        pdf.add_rows(row)\n",
    "        \n",
    "    pdf.add_rows([title, dept, org, loc, str(intervals[-1][0]), str(intervals[-1][1]), str(get_pay())])\n",
    "    \n",
    "pdf.output('employee_history.pdf')"
   ]
  },
  {
   "cell_type": "markdown",
   "id": "b5ee30a2",
   "metadata": {},
   "source": [
    "# Limitations\n",
    "\n",
    "1. Department remains fixed throughout the employment history for a given employee\n",
    "2. There's no binding of growth and promotion through the designations across the time period, similarly no pattern enforced for paygrade"
   ]
  },
  {
   "cell_type": "code",
   "execution_count": null,
   "id": "d13e7b19",
   "metadata": {},
   "outputs": [],
   "source": []
  }
 ],
 "metadata": {
  "kernelspec": {
   "display_name": "Python 3 (ipykernel)",
   "language": "python",
   "name": "python3"
  },
  "language_info": {
   "codemirror_mode": {
    "name": "ipython",
    "version": 3
   },
   "file_extension": ".py",
   "mimetype": "text/x-python",
   "name": "python",
   "nbconvert_exporter": "python",
   "pygments_lexer": "ipython3",
   "version": "3.9.7"
  }
 },
 "nbformat": 4,
 "nbformat_minor": 5
}
